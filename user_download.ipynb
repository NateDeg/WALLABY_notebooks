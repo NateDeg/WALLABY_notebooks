{
 "cells": [
  {
   "cell_type": "markdown",
   "id": "935cdfea",
   "metadata": {},
   "source": [
    "# WALLABY internal data access download\n",
    "\n",
    "A notebook pre-filled with cells and scripts for downloading WALLABY internal release data. The notebook has the following sections\n",
    "\n",
    "1. Authentication\n",
    "2. Get source finding catalog and products\n",
    "3. Get kinematic model table and products"
   ]
  },
  {
   "cell_type": "markdown",
   "id": "7dd0cc98-4b05-447c-aa33-3d27a84251d1",
   "metadata": {},
   "source": [
    "---"
   ]
  },
  {
   "cell_type": "code",
   "execution_count": null,
   "id": "5630c448-e003-4ae0-9efc-bfef293568a0",
   "metadata": {},
   "outputs": [],
   "source": [
    "import os\n",
    "import getpass\n",
    "import requests\n",
    "import getpass\n",
    "import pyvo as vo\n",
    "from pyvo.auth import authsession, securitymethods\n",
    "from astropy.io.votable import from_table, parse_single_table"
   ]
  },
  {
   "cell_type": "markdown",
   "id": "ae97b278",
   "metadata": {},
   "source": [
    "# 1. Connect\n",
    "\n",
    "We access the internally released WALLABY via TAP. The link to the tap service is provided below. The password to the `wallaby_user` will be circulated internally by the WALLABY project team, and it will be required to access any of the data."
   ]
  },
  {
   "cell_type": "markdown",
   "id": "b8a7a9ff-8084-4ad1-9d2c-d0d8aa62dab6",
   "metadata": {},
   "source": [
    "### Authenticate\n",
    "\n",
    "<span style=\"font-weight: bold; color: #FF0000;\">⚠ Update the cell below with your username and enter your password</span>"
   ]
  },
  {
   "cell_type": "code",
   "execution_count": null,
   "id": "1f4220e4-57ba-49e5-be19-983caf994019",
   "metadata": {},
   "outputs": [],
   "source": [
    "# Enter WALLABY user username and password\n",
    "\n",
    "username = 'wallaby_user'\n",
    "password = getpass.getpass('Enter your password')"
   ]
  },
  {
   "cell_type": "code",
   "execution_count": null,
   "id": "a02fa60a-d21d-483f-82a0-2862322e57e0",
   "metadata": {},
   "outputs": [],
   "source": [
    "# Connect with TAP service\n",
    "\n",
    "URL = \"https://wallaby.aussrc.org/tap\"\n",
    "auth = vo.auth.AuthSession()\n",
    "auth.add_security_method_for_url(URL, vo.auth.securitymethods.BASIC)\n",
    "auth.credentials.set_password(username, password)\n",
    "tap = vo.dal.TAPService(URL, session=auth)"
   ]
  },
  {
   "cell_type": "markdown",
   "id": "6d8af3de",
   "metadata": {},
   "source": [
    "# 2. Source finding\n",
    "\n",
    "First we need to identify which internal release we want to access. The WALLABY team uses tags to classify source finding detections as internally released. You can view all of the tags by running the cells below. Then, we set the `tag_name` variable two cells below. This will be used later in the notebook, so once you know what data you would like to access, update this value accordingly."
   ]
  },
  {
   "cell_type": "code",
   "execution_count": null,
   "id": "92bb2bbb",
   "metadata": {},
   "outputs": [],
   "source": [
    "# Get all tags\n",
    "\n",
    "query = \"SELECT * FROM wallaby.tag\"\n",
    "votable = tap.search(query)\n",
    "table = votable.to_table()\n",
    "table"
   ]
  },
  {
   "cell_type": "markdown",
   "id": "74c459eb-5d2a-4007-8150-eba6c13875c2",
   "metadata": {},
   "source": [
    "<span style=\"font-weight: bold; color: #FF0000;\">⚠ Update the `tag_name` value here. Include the description with format: \"name: description\"</span>"
   ]
  },
  {
   "cell_type": "code",
   "execution_count": null,
   "id": "65dfe2d9",
   "metadata": {},
   "outputs": [],
   "source": [
    "# SELECT TAG\n",
    "\n",
    "tag_name = \"WALLABY: Full WALLABY survey\""
   ]
  },
  {
   "cell_type": "code",
   "execution_count": null,
   "id": "aac09df6-aa7a-4069-83c1-01946cfe2057",
   "metadata": {},
   "outputs": [],
   "source": [
    "# Retrieve catalog as Astropy table\n",
    "\n",
    "query = \"\"\"SELECT d.*, ivo_string_agg(t.name || ': ' || t.description, '; ') AS tags, ivo_string_agg(c.comment, '; ') AS comments\n",
    "            FROM wallaby.detection d\n",
    "            FULL JOIN wallaby.tag_detection td ON d.id = td.detection_id \n",
    "            LEFT JOIN wallaby.tag t ON t.id = td.tag_id\n",
    "            LEFT JOIN wallaby.comment c ON d.id = c.detection_id\n",
    "            WHERE d.source_name IS NOT NULL\n",
    "            GROUP BY d.id\n",
    "            HAVING ivo_string_agg(t.name || ': ' || t.description, '; ') LIKE '%$TAG_NAME%'\"\"\"\n",
    "query = query.replace('$TAG_NAME', tag_name)\n",
    "result = tap.search(query)\n",
    "table = result.to_table()\n",
    "table['comments'] = ['; '.join(list(set([ci.strip() for ci in c.split(';')]))) for c in table['comments']]  # make comments distict\n",
    "table"
   ]
  },
  {
   "cell_type": "markdown",
   "id": "03b046a2-abd2-4795-b519-1e92d29cd1a6",
   "metadata": {},
   "source": [
    "## Download catalog\n",
    "\n",
    "It is convenient to write the catalog (`astropy` Table object) to a number of file formats. Below we show how to export the table as a `.xml` votable file. For this, we convert the astropy table to a votable, but there are a number of write options for the astropy table:\n",
    "\n",
    "https://docs.astropy.org/en/stable/io/ascii/write.html"
   ]
  },
  {
   "cell_type": "markdown",
   "id": "ceae150b-92df-48ea-84f7-c40448fc9477",
   "metadata": {},
   "source": [
    "<span style=\"font-weight: bold; color: #FF0000;\">⚠ Update the `download_filename` value here to specify where to download catalog and products</span>"
   ]
  },
  {
   "cell_type": "code",
   "execution_count": null,
   "id": "266c0bd3-7322-4acd-a3ec-9fae6de94ee7",
   "metadata": {},
   "outputs": [],
   "source": [
    "# Folder name for downloads\n",
    "\n",
    "download_filename = \"WALLABY\""
   ]
  },
  {
   "cell_type": "code",
   "execution_count": null,
   "id": "4c9b253d-c993-4894-9361-baa0934a3b77",
   "metadata": {},
   "outputs": [],
   "source": [
    "# Download catalog table\n",
    "\n",
    "votable = from_table(table)\n",
    "votable_filename = f'{download_filename}.xml'\n",
    "votable.to_xml(votable_filename)"
   ]
  },
  {
   "cell_type": "markdown",
   "id": "1e5711c1-928d-4a93-918e-355d5949a735",
   "metadata": {},
   "source": [
    "## Download products"
   ]
  },
  {
   "cell_type": "markdown",
   "id": "8cb4ffb9-9861-406c-9e98-84725d8bdebb",
   "metadata": {},
   "source": [
    "### Download\n",
    "\n",
    "We have written a function to download the WALLABY source products for an astropy table containing a list of detections. Here the arguments are:\n",
    "\n",
    "* `table`: the astropy table of detections for which you would like to download product files\n",
    "* `directory`: the write directory for the products\n",
    "* `chunk_size`: size (bytes) of each chunk while streaming the download [default 8192 B]"
   ]
  },
  {
   "cell_type": "code",
   "execution_count": null,
   "id": "9179ec6d-9ed5-468d-9411-cc4e5746b081",
   "metadata": {},
   "outputs": [],
   "source": [
    "# useful function for downloading table products (requires authentication)\n",
    "\n",
    "def download_products(row, products_filename, chunk_size=8192):\n",
    "    \"\"\"Download products for a row of the table (a detection entry)\n",
    "    \n",
    "    \"\"\"\n",
    "    name = row['source_name']\n",
    "    access_url = row['access_url']\n",
    "    votable = parse_single_table(access_url)\n",
    "    product_table = votable.to_table()\n",
    "    url = product_table[product_table['description'] == 'SoFiA-2 Detection Products'][0]['access_url']\n",
    "    with requests.get(url, auth=(username, password), stream=True) as r:\n",
    "        r.raise_for_status()\n",
    "        with open(products_filename, 'wb') as f:\n",
    "            for chunk in r.iter_content(chunk_size=chunk_size):\n",
    "                f.write(chunk)\n",
    "    print(f'Downloaded completed for {name}')\n",
    "    return\n",
    "\n",
    "def download_table_products(table, directory, chunk_size=8192):\n",
    "    \"\"\"Download WALLABY products from ADQL queried table\n",
    "\n",
    "    \"\"\"\n",
    "    if not os.path.exists(directory):\n",
    "        os.mkdir(directory)\n",
    "    print(f'Saving products to {directory}')\n",
    "    for row in table:\n",
    "        name = row['source_name']\n",
    "        products_filename = os.path.join(directory, f'{name}.tar')\n",
    "        download_products(row, products_filename, chunk_size)\n",
    "    print('Downloads complete')\n",
    "    return"
   ]
  },
  {
   "cell_type": "code",
   "execution_count": null,
   "id": "278faf65-85e4-445b-b51c-dcd2540832bf",
   "metadata": {},
   "outputs": [],
   "source": [
    "# Write output products for a source\n",
    "\n",
    "download_table_products(table[0:5], download_filename)"
   ]
  },
  {
   "cell_type": "markdown",
   "id": "24bb1736-0f32-45b8-a645-c32325d80328",
   "metadata": {},
   "source": [
    "---"
   ]
  },
  {
   "cell_type": "markdown",
   "id": "88e7f862-b1b5-4fcc-aded-a0afa50e0745",
   "metadata": {},
   "source": [
    "# Kinematic models\n",
    "\n",
    "This notebook also allows users to download the kinematic model table and products. First, we select the kinematic models by tag and retrieve the table."
   ]
  },
  {
   "cell_type": "code",
   "execution_count": null,
   "id": "00bf893f-b1f2-495b-b9c2-6e8e8ce463b7",
   "metadata": {},
   "outputs": [],
   "source": [
    "# Select the list of available team release tags\n",
    "\n",
    "query = \"SELECT DISTINCT team_release_kin FROM wallaby.kinematic_model\"\n",
    "result = tap.search(query)\n",
    "result"
   ]
  },
  {
   "cell_type": "markdown",
   "id": "0b45bfe5",
   "metadata": {},
   "source": [
    "We can then select the kinematic models corresponding to a specific release key"
   ]
  },
  {
   "cell_type": "code",
   "execution_count": null,
   "id": "3cc09781",
   "metadata": {},
   "outputs": [],
   "source": [
    "# Set the kinematic tag desired\n",
    "kin_tag = \"NGC5044 Kin TR3\"\n",
    "\n",
    "# The generic query\n",
    "query = \"\"\"SELECT d.*\n",
    "        FROM wallaby.kinematic_model d\n",
    "        WHERE d.team_release_kin IN ('$TAG_NAME')\"\"\"\n",
    "query = query.replace('$TAG_NAME', kin_tag)\n",
    "\n",
    "# Run the tap query\n",
    "result = tap.search(query)\n",
    "\n",
    "# Get the resulting table\n",
    "kin_table = result.to_table()\n",
    "\n",
    "# Print off the table\n",
    "kin_table[0:2]"
   ]
  },
  {
   "cell_type": "markdown",
   "id": "016aa2be",
   "metadata": {},
   "source": [
    "Once the table is put together, it can be downloaded in an XML format."
   ]
  },
  {
   "cell_type": "code",
   "execution_count": null,
   "id": "3448e67b",
   "metadata": {},
   "outputs": [],
   "source": [
    "# Download catalog table\n",
    "\n",
    "votable = from_table(kin_table)\n",
    "votable_filename = f'%s_catalogue.xml' % kin_tag.replace(' ', '_')\n",
    "votable.to_xml(votable_filename)"
   ]
  },
  {
   "cell_type": "code",
   "execution_count": null,
   "id": "114ab1cc-f3b5-4b97-b445-bf4654edf8b5",
   "metadata": {},
   "outputs": [],
   "source": [
    "# Download products\n",
    "\n",
    "def download_wkapp_products(row, products_filename, chunk_size=8192):\n",
    "    \"\"\"Download products for a row of the table (a detection entry)\n",
    "    \n",
    "    \"\"\"\n",
    "    id = row['id']\n",
    "    URL = 'https://wallaby.aussrc.org/survey/vo/kinematic_model_dl/dlmeta?ID='\n",
    "    access_url = f'{URL}{id}'\n",
    "    votable = parse_single_table(access_url)\n",
    "    product_table = votable.to_table()\n",
    "    url = product_table[product_table['description'] == 'Kinematic model Products'][0]['access_url']\n",
    "    with requests.get(url, auth=(username, password), stream=True) as r:\n",
    "        r.raise_for_status()\n",
    "        with open(products_filename, 'wb') as f:\n",
    "            for chunk in r.iter_content(chunk_size=chunk_size):\n",
    "                f.write(chunk)\n",
    "    print(f'Downloaded completed for kinematic_model id={id}')\n",
    "    return\n",
    "\n",
    "def download_table_wkapp_products(table, directory, chunk_size=8192):\n",
    "    \"\"\"Download WALLABY WKAPP products from ADQL queried table\n",
    "\n",
    "    \"\"\"\n",
    "    if not os.path.exists(directory):\n",
    "        os.mkdir(directory)\n",
    "    print(f'Saving products to {directory}')\n",
    "    for row in table:\n",
    "        id = row['id']\n",
    "        kin_release = row['team_release_kin'].replace(' ', '_')\n",
    "        products_filename = os.path.join(directory, f'{kin_release}_{id}.tar')\n",
    "        download_wkapp_products(row, products_filename, chunk_size)\n",
    "    print('Downloads complete')\n",
    "    return"
   ]
  },
  {
   "cell_type": "code",
   "execution_count": null,
   "id": "1a3f8cc4-bd39-4305-97a1-5ac554efda59",
   "metadata": {},
   "outputs": [],
   "source": [
    "# Download WKAPP products\n",
    "\n",
    "download_wkapp_products(kin_table[0], f\"{kin_tag.replace(' ', '_')}.tar\")\n",
    "download_table_wkapp_products(kin_table[0:5], kin_tag.replace(' ', '_'))"
   ]
  },
  {
   "cell_type": "markdown",
   "id": "68dd3de7",
   "metadata": {},
   "source": [
    "We can do a similar thing for the 3KIDNAS tables\n",
    "\n",
    "<span style=\"font-weight: bold; color: #FF0000;\">⚠ Update the kinematic model tag here</span>"
   ]
  },
  {
   "cell_type": "code",
   "execution_count": null,
   "id": "abfbce8d-983b-4908-a168-44fc40fc0df1",
   "metadata": {},
   "outputs": [],
   "source": [
    "query = \"SELECT DISTINCT team_release_kin FROM wallaby.kinematic_model_3kidnas\"\n",
    "result = tap.search(query)\n",
    "result"
   ]
  },
  {
   "cell_type": "code",
   "execution_count": null,
   "id": "8b0cfa6a-f335-43ef-b1db-f09b0a61d668",
   "metadata": {},
   "outputs": [],
   "source": [
    "kin_tag = \"Vela E KinTR1\""
   ]
  },
  {
   "cell_type": "code",
   "execution_count": null,
   "id": "a0f0c676-bf85-4912-934e-02aeaf661f20",
   "metadata": {},
   "outputs": [],
   "source": [
    "# The generic query\n",
    "query = \"\"\"SELECT k.*, d.source_name\n",
    "        FROM wallaby.kinematic_model_3kidnas k\n",
    "        LEFT JOIN wallaby.detection d ON d.id = k.detection_id\n",
    "        WHERE k.team_release_kin IN ('$TAG_NAME')\"\"\"\n",
    "query = query.replace('$TAG_NAME', kin_tag)\n",
    "\n",
    "# Run the tap query\n",
    "result = tap.search(query)\n",
    "\n",
    "# Get the resulting table\n",
    "kin_table_3kidnas = result.to_table()\n",
    "\n",
    "# Print off the table\n",
    "kin_table_3kidnas[0:2]"
   ]
  },
  {
   "cell_type": "code",
   "execution_count": null,
   "id": "0bc20bcb",
   "metadata": {},
   "outputs": [],
   "source": [
    "# Download catalog table\n",
    "\n",
    "votable = from_table(kin_table_3kidnas)\n",
    "votable_filename = f'%s_catalogue.xml' % kin_tag.replace(' ', '_')\n",
    "votable.to_xml(votable_filename)\n",
    "\n",
    "csvtable_filename = f'%s_catalogue.csv' % kin_tag.replace(' ', '_')\n",
    "kin_table_3kidnas.write(csvtable_filename,overwrite=True,format='csv')"
   ]
  },
  {
   "cell_type": "code",
   "execution_count": null,
   "id": "aeaa4186-e1e5-4273-aa2d-975e69e85de6",
   "metadata": {},
   "outputs": [],
   "source": [
    "# Download products\n",
    "\n",
    "def download_wrkp_products(row, products_filename, chunk_size=8192):\n",
    "    \"\"\"Download products for a row of the table (a detection entry)\n",
    "    \n",
    "    \"\"\"\n",
    "    id = row['id']\n",
    "    source_name = row['source_name']\n",
    "    URL = 'https://wallaby.aussrc.org/survey/vo/kinematic_model_3kidnas_dl/dlmeta?ID='\n",
    "    access_url = f'{URL}{id}'\n",
    "    votable = parse_single_table(access_url)\n",
    "    product_table = votable.to_table()\n",
    "    url = product_table[product_table['description'] == 'Kinematic model 3KIDNAS Products'][0]['access_url']\n",
    "    with requests.get(url, auth=(username, password), stream=True) as r:\n",
    "        r.raise_for_status()\n",
    "        with open(products_filename, 'wb') as f:\n",
    "            for chunk in r.iter_content(chunk_size=chunk_size):\n",
    "                f.write(chunk)\n",
    "    print(f'Downloaded completed for kinematic_model_3kidnas id={id} ({source_name})')\n",
    "    return\n",
    "\n",
    "def download_table_wrkp_products(table, directory, chunk_size=8192):\n",
    "    \"\"\"Download WALLABY WRKP products from ADQL queried table\n",
    "\n",
    "    \"\"\"\n",
    "    if not os.path.exists(directory):\n",
    "        os.mkdir(directory)\n",
    "    print(f'Saving products to {directory}')\n",
    "    for row in table:\n",
    "        name = row['source_name'].replace(' ', '_')\n",
    "        kin_release = row['team_release_kin'].replace(' ', '_')\n",
    "        products_filename = os.path.join(directory, f'{kin_release}_{name}.tar')\n",
    "        download_wrkp_products(row, products_filename, chunk_size)\n",
    "    print('Downloads complete')\n",
    "    return"
   ]
  },
  {
   "cell_type": "code",
   "execution_count": null,
   "id": "a121bc52-6db0-436a-a2a6-b85300ed16bb",
   "metadata": {},
   "outputs": [],
   "source": [
    "# Download WRKP products\n",
    "\n",
    "download_wrkp_products(kin_table_3kidnas[0], 'test.tar')\n",
    "download_table_wrkp_products(kin_table_3kidnas[0:5], 'test')"
   ]
  },
  {
   "cell_type": "code",
   "execution_count": null,
   "id": "2bd609b8-8e3c-4b83-a565-cd93004e9da4",
   "metadata": {},
   "outputs": [],
   "source": []
  }
 ],
 "metadata": {
  "kernelspec": {
   "display_name": "Python 3 (ipykernel)",
   "language": "python",
   "name": "python3"
  },
  "language_info": {
   "codemirror_mode": {
    "name": "ipython",
    "version": 3
   },
   "file_extension": ".py",
   "mimetype": "text/x-python",
   "name": "python",
   "nbconvert_exporter": "python",
   "pygments_lexer": "ipython3",
   "version": "3.9.6"
  }
 },
 "nbformat": 4,
 "nbformat_minor": 5
}
