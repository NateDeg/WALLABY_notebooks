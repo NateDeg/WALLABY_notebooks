{
 "cells": [
  {
   "cell_type": "markdown",
   "id": "25bb2fab-51dd-45a7-9c21-d3d611333a3d",
   "metadata": {},
   "source": [
    "# WALLABY internal data access science\n",
    "\n",
    "A notebook pre-filled with cells and scripts for querying the WALLABY internal release data via the public TAP interface. The notebook has the following sections\n",
    "\n",
    "1. Setup\n",
    "2. Source finding detection catalog\n",
    "3. Use kinematic models"
   ]
  },
  {
   "cell_type": "markdown",
   "id": "3644ca80-13e6-4d58-9253-7d614bc2da5e",
   "metadata": {},
   "source": [
    "---"
   ]
  },
  {
   "cell_type": "markdown",
   "id": "52fef19c-9cc4-46bc-9d4f-18c1f50dfac4",
   "metadata": {},
   "source": [
    "# 1. Setup "
   ]
  },
  {
   "cell_type": "code",
   "execution_count": null,
   "id": "64158aa1-0c10-4b1d-b3b9-dba091e97aff",
   "metadata": {},
   "outputs": [],
   "source": [
    "import os\n",
    "import tarfile\n",
    "import requests\n",
    "import getpass\n",
    "import pyvo as vo\n",
    "from pyvo.auth import authsession, securitymethods\n",
    "from astropy.io.votable import from_table, parse_single_table"
   ]
  },
  {
   "cell_type": "markdown",
   "id": "780856e2-f5cd-427d-8611-98fc2188967c",
   "metadata": {},
   "source": [
    "### Authenticate\n",
    "\n",
    "<span style=\"font-weight: bold; color: #FF0000;\">⚠ Update the cell below with your username and enter your password</span>"
   ]
  },
  {
   "cell_type": "code",
   "execution_count": null,
   "id": "b3b82f88-523b-4e03-80b9-92d6e157272d",
   "metadata": {},
   "outputs": [],
   "source": [
    "# Enter WALLABY user username and password\n",
    "\n",
    "username = 'wallaby_user'\n",
    "password = getpass.getpass('Enter your password')"
   ]
  },
  {
   "cell_type": "code",
   "execution_count": null,
   "id": "60083e4c-e9f1-4b2d-98fe-90173de320a6",
   "metadata": {},
   "outputs": [],
   "source": [
    "# Connect with TAP service\n",
    "\n",
    "URL = \"https://wallaby.aussrc.org/tap\"\n",
    "auth = vo.auth.AuthSession()\n",
    "auth.add_security_method_for_url(URL, vo.auth.securitymethods.BASIC)\n",
    "auth.credentials.set_password(username, password)\n",
    "tap = vo.dal.TAPService(URL, session=auth)"
   ]
  },
  {
   "cell_type": "markdown",
   "id": "8421938b-1617-4c45-a358-4a79c0529ff9",
   "metadata": {},
   "source": [
    "# 2. Source finding\n",
    "\n",
    "First we need to identify which internal release we want to access. The WALLABY team uses tags to classify source finding detections as internally released. You can view all of the tags by running the cells below. Then, we set the `tag_name` variable in the cell below."
   ]
  },
  {
   "cell_type": "code",
   "execution_count": null,
   "id": "052c594e-51a0-4663-b04a-48f6d1b6cb1b",
   "metadata": {},
   "outputs": [],
   "source": [
    "# Get all tags\n",
    "\n",
    "query = \"SELECT * FROM wallaby.tag\"\n",
    "votable = tap.search(query)\n",
    "table = votable.to_table()\n",
    "table"
   ]
  },
  {
   "cell_type": "markdown",
   "id": "5beaccff-41ea-44fc-8f73-4e2bcae6f958",
   "metadata": {},
   "source": [
    "As an example, let us retrieve all sources from WALLABY full survey observations released as part of the \"WALLABY\" release by supplying the `WALLABY: Full WALLABY survey` tag name to the query. \n",
    "\n",
    "As an example, if instead we wanted to retrieve sources from the \"NGC 5044 DR1\" release, we would instead enter \"NGC 5044 DR1: NGC 5044 DR1 data release\" into the cell below."
   ]
  },
  {
   "cell_type": "markdown",
   "id": "e932c1b7-fc5b-4aef-8aaa-412351308e02",
   "metadata": {},
   "source": [
    "<span style=\"font-weight: bold; color: #FF0000;\">⚠ Update the `tag_name` value here. Include the description with format: \"name: description\"</span>"
   ]
  },
  {
   "cell_type": "code",
   "execution_count": null,
   "id": "d37b07f7-83c8-4445-ba7f-401f3bc5dd39",
   "metadata": {},
   "outputs": [],
   "source": [
    "# SELECT TAG\n",
    "\n",
    "tag_name = \"WALLABY: Full WALLABY survey\""
   ]
  },
  {
   "cell_type": "code",
   "execution_count": null,
   "id": "bf00d112-1d0a-46a4-a9ba-e5118caa7747",
   "metadata": {},
   "outputs": [],
   "source": [
    "# Retrieve catalog as Astropy table\n",
    "\n",
    "query = \"\"\"SELECT d.*, ivo_string_agg(t.name || ': ' || t.description, '; ') AS tags, ivo_string_agg(c.comment, '; ') AS comments\n",
    "            FROM wallaby.detection d\n",
    "            FULL JOIN wallaby.tag_detection td ON d.id = td.detection_id \n",
    "            LEFT JOIN wallaby.tag t ON t.id = td.tag_id\n",
    "            LEFT JOIN wallaby.comment c ON d.id = c.detection_id\n",
    "            WHERE d.source_name IS NOT NULL\n",
    "            GROUP BY d.id\n",
    "            HAVING ivo_string_agg(t.name || ': ' || t.description, '; ') LIKE '%$TAG_NAME%'\"\"\"\n",
    "query = query.replace('$TAG_NAME', tag_name)\n",
    "result = tap.search(query)\n",
    "table = result.to_table()\n",
    "table['comments'] = ['; '.join(list(set([ci.strip() for ci in c.split(';')]))) for c in table['comments']]  # make comments distict\n",
    "table"
   ]
  },
  {
   "cell_type": "markdown",
   "id": "d60e54d6-86ab-45ff-9053-982de8348e51",
   "metadata": {},
   "source": [
    "The source catalog returned by the function should have been printed above (if not, check for error messages) and is stored in the variable `table`. We can now use basic indexing to access different catalog entries. For example, `table[\"f_sum\"]` will return the entire column of integrated flux measurements, and we can use `table[\"f_sum\"][0]` etc. to extract the individual fluxes for each source. Likewise, `table[0]` will extract the entire first row of the catalog, i.e. a list of all parameters of the first source."
   ]
  },
  {
   "cell_type": "markdown",
   "id": "6731150b-557f-431c-9010-047883e7876f",
   "metadata": {},
   "source": [
    "## Calculate Physical Parameters\n",
    "\n",
    "The next example demonstrates how to retrieve certain parameters from the catalog and use basic arithmetic to convert some of the raw measurements made by SoFiA into physically meaningful parameters such as redshift or HI mass. These can be directly appended to the catalog as additional columns using `table[\"parameter_name\"] = <expression>`."
   ]
  },
  {
   "cell_type": "code",
   "execution_count": null,
   "id": "9db3721a-c9bf-46ca-ab1b-51580b9aaa95",
   "metadata": {},
   "outputs": [],
   "source": [
    "import numpy as np\n",
    "import scipy.constants as const\n",
    "from astropy.cosmology import FlatLambdaCDM\n",
    "\n",
    "# Set up cosmology\n",
    "f_rest = 1.42040575e+9;  # HI rest frequency in Hz\n",
    "cosmo = FlatLambdaCDM(H0=70, Om0=0.3, Tcmb0=2.725)\n",
    "\n",
    "# Calculate redshift\n",
    "table[\"redshift\"] = f_rest / table[\"freq\"] - 1.0\n",
    "\n",
    "# Calculate luminosity distance in Mpc and HI mass in solar masses\n",
    "table[\"dl\"] = cosmo.luminosity_distance(table[\"redshift\"]).value\n",
    "table[\"log_mhi\"] = np.log10(49.7 * table[\"dl\"] * table[\"dl\"] * table[\"f_sum\"])\n",
    "\n",
    "# Calculate source rest frame velocity width in km/s\n",
    "table[\"dv\"] = const.c * (1.0 + table[\"redshift\"]) * table[\"w20\"] / f_rest / 1000.0\n",
    "\n",
    "# Show our new parameters\n",
    "table[\"name\", \"id\", \"redshift\", \"dl\", \"log_mhi\", \"dv\"].pprint(max_width=-1)"
   ]
  },
  {
   "cell_type": "markdown",
   "id": "fae12e45-cd45-463d-8877-3a75ee266e65",
   "metadata": {},
   "source": [
    "## Create a Plot\n",
    "\n",
    "Once we’ve done our analysis, we can the create plots of any of the parameters in our table. In this example, let us plot the logarithmic HI mass against redshift and additionally colour the data points by source rest frame velocity width. If desired, the resulting plot can be exported as a PDF file and then downloaded to your local computer, e.g. to use in a presentation or publication."
   ]
  },
  {
   "cell_type": "code",
   "execution_count": null,
   "id": "d937607a-4062-4ef7-a1b7-a98ec076c04a",
   "metadata": {},
   "outputs": [],
   "source": [
    "import matplotlib.pyplot as plt\n",
    "%matplotlib inline\n",
    "\n",
    "plt.rcParams[\"figure.figsize\"] = (14, 8)\n",
    "plt.rcParams[\"font.size\"] = 16\n",
    "\n",
    "plt.scatter(table[\"redshift\"], table[\"log_mhi\"], s=16, c=table[\"dv\"], cmap=\"jet\")\n",
    "plt.xlabel(r\"$z$\")\n",
    "plt.ylabel(r\"$\\log_{10}(M_{\\rm HI} / M_{\\odot})$\")\n",
    "cbar = plt.colorbar()\n",
    "cbar.set_label(r\"$\\Delta v \\; (\\mathrm{km \\, s}^{-1})$\")\n",
    "plt.xlim(0.0, 0.1)\n",
    "plt.ylim(7.0, 11.0)\n",
    "plt.grid(True)\n",
    "\n",
    "# Uncomment the following line to make a PDF copy in the notebook folder for download\n",
    "#plt.savefig(\"my_plot.pdf\", format=\"pdf\", bbox_inches=\"tight\", pad_inches=0.05)\n",
    "\n",
    "plt.show()"
   ]
  },
  {
   "cell_type": "markdown",
   "id": "477fc82d-2ba8-41ad-b599-ab68b521b330",
   "metadata": {},
   "source": [
    "## Filtering the catalog\n",
    "\n",
    "Once we have the catalog loaded into an Astropy table object, we can easily make selections to suit our scientific needs. The following examples illustrate how the catalog can be filtered by certain criteria such as parameter ranges or the presence of comments and tags."
   ]
  },
  {
   "cell_type": "markdown",
   "id": "81466586-c37b-4844-8726-8d9c32665103",
   "metadata": {},
   "source": [
    "**Example: Filter sources by parameter range**"
   ]
  },
  {
   "cell_type": "code",
   "execution_count": null,
   "id": "981ee7fe-acdc-426c-ae6c-374969834765",
   "metadata": {
    "scrolled": true
   },
   "outputs": [],
   "source": [
    "# Select all sources within a certain RA and Dec range\n",
    "\n",
    "mask = (table[\"ra\"] > 202.0) & (table[\"ra\"] < 203.0) & (table[\"dec\"] > -22.5) & (table[\"dec\"] < -21.5)\n",
    "table[mask].pprint()"
   ]
  },
  {
   "cell_type": "markdown",
   "id": "ba7a3ccf-972d-4686-ac38-c97af2a62846",
   "metadata": {},
   "source": [
    "## Plot detection products\n",
    "\n",
    "To view the products (moment maps, spectra, etc) you can download them with the following code snippets."
   ]
  },
  {
   "cell_type": "code",
   "execution_count": null,
   "id": "b4f2db0a-80ba-4006-8a76-c1170221f0d0",
   "metadata": {},
   "outputs": [],
   "source": [
    "# useful function for downloading table products (requires authentication)\n",
    "\n",
    "def download_products(row, products_filename, chunk_size=8192):\n",
    "    \"\"\"Download products for a row of the table (a detection entry)\n",
    "    \n",
    "    \"\"\"\n",
    "    name = row['source_name']\n",
    "    access_url = row['access_url']\n",
    "    votable = parse_single_table(access_url)\n",
    "    product_table = votable.to_table()\n",
    "    url = product_table[product_table['description'] == 'SoFiA-2 Detection Products'][0]['access_url']\n",
    "    with requests.get(url, auth=(username, password), stream=True) as r:\n",
    "        r.raise_for_status()\n",
    "        with open(products_filename, 'wb') as f:\n",
    "            for chunk in r.iter_content(chunk_size=chunk_size):\n",
    "                f.write(chunk)\n",
    "    print(f'Downloaded completed for {name}')\n",
    "    return\n",
    "\n",
    "def download_table_products(table, directory, chunk_size=8192):\n",
    "    \"\"\"Download WALLABY products from ADQL queried table\n",
    "\n",
    "    \"\"\"\n",
    "    if not os.path.exists(directory):\n",
    "        os.mkdir(directory)\n",
    "    print(f'Saving products to {directory}')\n",
    "    for row in table:\n",
    "        name = row['source_name']\n",
    "        products_filename = os.path.join(directory, f'{name}.tar')\n",
    "        download_products(row, products_filename, chunk_size)\n",
    "    print('Downloads complete')\n",
    "    return"
   ]
  },
  {
   "cell_type": "code",
   "execution_count": null,
   "id": "1c7ec448-6fce-4812-a82a-fc9478247e39",
   "metadata": {},
   "outputs": [],
   "source": [
    "# Select detection of interest and download product files\n",
    "\n",
    "detection_row = table[0]\n",
    "name = detection_row['source_name']\n",
    "products_filename = f'{name}.tar'\n",
    "download_products(detection_row, products_filename)"
   ]
  },
  {
   "cell_type": "code",
   "execution_count": null,
   "id": "552b339d-e401-4b49-816a-0f0c1b9397e7",
   "metadata": {},
   "outputs": [],
   "source": [
    "# Check filesystem for file\n",
    "\n",
    "assert os.path.exists(products_filename), 'Download error'\n",
    "tf = tarfile.open(products_filename)\n",
    "tf.extractall(name)\n",
    "tf.close()"
   ]
  },
  {
   "cell_type": "code",
   "execution_count": null,
   "id": "238d6ec0-2f46-4113-b31b-df3b71fa14a1",
   "metadata": {},
   "outputs": [],
   "source": [
    "!ls '{name}'"
   ]
  },
  {
   "cell_type": "markdown",
   "id": "9ff361cf-83e7-4903-80a1-db54dfb0c272",
   "metadata": {},
   "source": [
    "### Create plots\n",
    "\n",
    "Once we have the product files for the detection of interest, we can plot them using familiar Python libraries. In the example below, we will plot the moment 0 map of a detection of interest."
   ]
  },
  {
   "cell_type": "code",
   "execution_count": null,
   "id": "827e65c9-fd36-4611-ab9d-196b54ee4510",
   "metadata": {},
   "outputs": [],
   "source": [
    "import glob \n",
    "from astropy.wcs import WCS\n",
    "from astropy.io import fits\n",
    "import matplotlib.pyplot as plt\n",
    "import matplotlib.image as mpimg"
   ]
  },
  {
   "cell_type": "code",
   "execution_count": null,
   "id": "1c483fec-f3f7-4ee9-9508-4d0a136eb80b",
   "metadata": {},
   "outputs": [],
   "source": [
    "# plot summary figure\n",
    "\n",
    "files = glob.glob(os.path.join(name, '*plot.png'))\n",
    "file = files[0]\n",
    "img = mpimg.imread(file)\n",
    "\n",
    "plt.imshow(img) \n",
    "plt.axis('off')\n",
    "plt.show()"
   ]
  },
  {
   "cell_type": "code",
   "execution_count": null,
   "id": "bc2578a3-fb3f-4ca6-8d99-ef716f5ae907",
   "metadata": {},
   "outputs": [],
   "source": [
    "# open moment 0 map and plot\n",
    "\n",
    "files = glob.glob(os.path.join(name, '*mom0.fits'))\n",
    "file = files[0]\n",
    "hdu = fits.open(file)[0]\n",
    "wcs = WCS(hdu.header)\n",
    "\n",
    "plt.subplot(projection=wcs) \n",
    "plt.imshow(hdu.data, origin='lower') \n",
    "plt.grid(color='white', ls='solid')\n",
    "plt.show()"
   ]
  },
  {
   "cell_type": "markdown",
   "id": "5fab2852-3313-4661-b902-acc39e86e0b9",
   "metadata": {},
   "source": [
    "# 3. Kinematic models\n",
    "\n",
    "<span style=\"font-weight: bold; color: #FF0000;\">⚠ To be updated</span>\n",
    "\n",
    "Kinematic models are now available through the WALLABY database. Only a subset of the sources have kinematic models. They can be accessed in a similar way to source products. First, we list the tags with `wallaby.get_kinematic_model_tags()`. Then, we use the tag to retrieve the catalog as an Astropy table with `wallaby.get_kinematic_model()`.\n",
    "\n",
    "The kinematic model tags use the convention `TR` for \"team release\" and have the \"Kin\" keyword, whereas the source finding models use `DR` for \"data release\". To retrieve the kinematic models associated with NGC 5044 DR2, you would select the kinematic model tag \"NGC 5044 Kin TR2\"."
   ]
  },
  {
   "cell_type": "code",
   "execution_count": null,
   "id": "04389839",
   "metadata": {},
   "outputs": [],
   "source": [
    "# Select the list of available team release tags\n",
    "\n",
    "query = \"\"\"SELECT DISTINCT team_release_kin\n",
    "        FROM wallaby.kinematic_model\"\"\"\n",
    "result = tap.search(query)\n",
    "result"
   ]
  },
  {
   "cell_type": "code",
   "execution_count": null,
   "id": "c96b6672",
   "metadata": {},
   "outputs": [],
   "source": [
    "# Set the kinematic tag desired\n",
    "kin_tag = \"NGC5044 Kin TR3\"\n",
    "\n",
    "# The generic query\n",
    "query = \"\"\"SELECT * FROM wallaby.kinematic_model k\n",
    "        WHERE k.team_release_kin IN ('$TAG_NAME')\"\"\"\n",
    "query = query.replace('$TAG_NAME', kin_tag)\n",
    "\n",
    "# Run the tap query\n",
    "result = tap.search(query)\n",
    "\n",
    "# Get the resulting table\n",
    "kin_table = result.to_table()\n",
    "\n",
    "# Print off the table\n",
    "kin_table"
   ]
  },
  {
   "cell_type": "markdown",
   "id": "9d766520-1eb8-47ca-98b1-9646ae38f98d",
   "metadata": {},
   "source": [
    "We can then use the kinematic model table in the same way as the source finding table. Below is an example figure created from the kinematic model catalog."
   ]
  },
  {
   "cell_type": "markdown",
   "id": "99e1ca7a",
   "metadata": {},
   "source": [
    "The profiles in the kinematic tables are stored as strings, so these will need to be parsed into arrays.  The function below is designed to do this."
   ]
  },
  {
   "cell_type": "code",
   "execution_count": null,
   "id": "02b617d5",
   "metadata": {},
   "outputs": [],
   "source": [
    "import numpy as np\n",
    "\n",
    "def StrToArr(StrArr):\n",
    "    StrVals = StrArr.split(\",\")\n",
    "    FloatArr = np.zeros(len(StrVals))\n",
    "    for i in range(len(StrVals)):\n",
    "        FloatArr[i] = float(StrVals[i])\n",
    "    return FloatArr"
   ]
  },
  {
   "cell_type": "code",
   "execution_count": null,
   "id": "64f54da6-9e9d-4d83-96a4-c7a08d4617f9",
   "metadata": {},
   "outputs": [],
   "source": [
    "%matplotlib inline\n",
    "\n",
    "#To make the plot look a bit nicer, we'll set the figure size and font size\n",
    "plt.rcParams[\"figure.figsize\"] = (14, 8)\n",
    "plt.rcParams[\"font.size\"] = 16\n",
    "\n",
    "for row in kin_table:\n",
    "    r = StrToArr(row['rad'])\n",
    "    v = StrToArr(row['vrot_model'])\n",
    "    plt.plot(r, v, ls='-', color='k', marker='')\n",
    "    \n",
    "plt.title(kin_tag)\n",
    "plt.xlabel(r\"$R$ ('') \")\n",
    "plt.ylabel(r\"$V_{rot}$ (km/s)\")\n",
    "plt.xlim(0.0, 200)\n",
    "plt.ylim(0, 350)\n",
    "plt.grid(True)\n",
    "plt.show()"
   ]
  },
  {
   "cell_type": "markdown",
   "id": "fdd0859b",
   "metadata": {},
   "source": [
    "The kinematic_model table points to the WKAPP models.  These only include the pilot fields.  For the 3KIDNAS models, we need to point to the kinematic_model_3kidnas table.  This will include all internally released kinematic models for the full survey"
   ]
  },
  {
   "cell_type": "code",
   "execution_count": null,
   "id": "8e5782d3",
   "metadata": {},
   "outputs": [],
   "source": [
    "# Select the list of available team release tags\n",
    "\n",
    "query = \"\"\"SELECT DISTINCT team_release_kin\n",
    "        FROM wallaby.kinematic_model_3kidnas \"\"\"\n",
    "result = tap.search(query)\n",
    "result"
   ]
  },
  {
   "cell_type": "code",
   "execution_count": null,
   "id": "c5759a01",
   "metadata": {},
   "outputs": [],
   "source": [
    "kin_tag = \"NGC 5044 E KinTR3\"\n",
    "\n",
    "# The generic query\n",
    "query= \"\"\"SELECT d.source_name, k.*\n",
    "        FROM wallaby.kinematic_model_3kidnas k\n",
    "        LEFT JOIN wallaby.detection d ON k.detection_id = d.id\n",
    "        WHERE k.team_release_kin IN ('$TAG_NAME')\"\"\"\n",
    "query = query.replace('$TAG_NAME', kin_tag)\n",
    "\n",
    "# Run the tap query\n",
    "result = tap.search(query)\n",
    "\n",
    "# Get the resulting table\n",
    "kin_table_3kidnas = result.to_table()\n",
    "\n",
    "# Print off the table\n",
    "kin_table_3kidnas"
   ]
  },
  {
   "cell_type": "markdown",
   "id": "05888404",
   "metadata": {},
   "source": [
    "Once again we can make a plot of these models following the same approach as before. However, the strings include square brackets that need to be stripped before parsing."
   ]
  },
  {
   "cell_type": "code",
   "execution_count": null,
   "id": "a2b07357",
   "metadata": {},
   "outputs": [],
   "source": [
    "def StrToArr_3kidnas(StrArr):\n",
    "    StrVals = StrArr.strip('[')\n",
    "    StrVals = StrVals.strip(']')\n",
    "    FloatArr = StrToArr(StrVals)\n",
    "    return FloatArr"
   ]
  },
  {
   "cell_type": "code",
   "execution_count": null,
   "id": "91c635f0",
   "metadata": {},
   "outputs": [],
   "source": [
    "%matplotlib inline\n",
    "\n",
    "#To make the plot look a bit nicer, we'll set the figure size and font size\n",
    "plt.rcParams[\"figure.figsize\"] = (14, 8)\n",
    "plt.rcParams[\"font.size\"] = 16\n",
    "\n",
    "for row in kin_table_3kidnas:\n",
    "    r=StrToArr_3kidnas(row['rad'])\n",
    "    v = StrToArr_3kidnas(row['vrot_model'])\n",
    "    plt.plot(r, v, ls='-', color='k', marker='')\n",
    "    \n",
    "plt.title(kin_tag)\n",
    "plt.xlabel(r\"$R$ ('') \")\n",
    "plt.ylabel(r\"$V_{rot}$ (km/s)\")\n",
    "plt.xlim(0.0, 200)\n",
    "plt.ylim(0, 350)\n",
    "plt.grid(True)\n",
    "plt.show()"
   ]
  },
  {
   "cell_type": "markdown",
   "id": "30eadfb3",
   "metadata": {},
   "source": [
    "The 3KIDNAS models also include estimates for R_HI and V_HI for a subset of galaxies.  These are indicated by when the rhi_flag==0.  These are calculated both in arcseconds and in kpc, and should already account for beam smearing.  However, it is very important to note that the kpc value is based on the dist_model value.  That distance is derived from a basic Hubble flow with H0=70 km/s/Mpc.  For detailed analysis, we strongly recommend rederiving the distances using some flow model (that wasn't derived with WALLABY values).  \n",
    "\n",
    "With these caveats in mind, we can quickly plot the size-velocity scaling relation."
   ]
  },
  {
   "cell_type": "code",
   "execution_count": null,
   "id": "9a5e7ae4",
   "metadata": {},
   "outputs": [],
   "source": [
    "%matplotlib inline\n",
    "\n",
    "#To make the plot look a bit nicer, we'll set the figure size and font size\n",
    "plt.rcParams[\"figure.figsize\"] = (14, 8)\n",
    "plt.rcParams[\"font.size\"] = 16\n",
    "fig=plt.figure()\n",
    "ax = fig.add_subplot(1, 1, 1)\n",
    "\n",
    "for row in kin_table_3kidnas:\n",
    "    if row['rhi_flag']==0:\n",
    "        DHI=2*row['rhi_kpc']\n",
    "        DHI_Low=2*row['rhi_low_kpc']\n",
    "        DHI_High=2*row['rhi_high_kpc']\n",
    "        DHI_Err=[[DHI-DHI_Low],[DHI_High-DHI]]\n",
    "        VHI=row['vhi']\n",
    "        VHI_Err=row['e_vhi']\n",
    "        \n",
    "        ax.errorbar(VHI, DHI, xerr=VHI_Err, yerr=DHI_Err, ls='', color='k', marker='.')\n",
    "    \n",
    "#plt.title(kin_tag)\n",
    "ax.set_xlabel(r\"$V_{HI}$ (km/s) \")\n",
    "ax.set_ylabel(r\"$D_{HI}$ (kpc)\")\n",
    "ax.set_xscale('log')\n",
    "ax.set_yscale('log')\n",
    "plt.show()"
   ]
  },
  {
   "cell_type": "markdown",
   "id": "36e9667a",
   "metadata": {},
   "source": [
    "It is possible to compare WKAPP models to 3KIDNAS models for the PDR fields.  This won't be possible for the full survey as WKAPP will be replaced by 3KIDNAS."
   ]
  },
  {
   "cell_type": "code",
   "execution_count": null,
   "id": "09b5875b",
   "metadata": {},
   "outputs": [],
   "source": [
    "from astropy.table import join\n",
    "\n",
    "#   First we will make a combined table that is matched on the name\n",
    "TestTable=join(kin_table,kin_table_3kidnas,keys_left='name',keys_right='source_name')\n",
    "\n",
    "\n",
    "#   Now we will initialize the figure\n",
    "%matplotlib inline\n",
    "\n",
    "#To make the plot look a bit nicer, we'll set the figure size and font size\n",
    "plt.rcParams[\"figure.figsize\"] = (14, 8)\n",
    "plt.rcParams[\"font.size\"] = 16\n",
    "fig=plt.figure()\n",
    "ax = fig.add_subplot(1, 1, 1)\n",
    "\n",
    "#   Next we select which galaxy we want to plot -- in this case, it will be the first one in the combined \n",
    "GalIndx=0\n",
    "#   For keys in each table with the same name (i.e. the RC keys), they are labelled \n",
    "#    with a _1 or _2 depending on which table they were drawn from.\n",
    "#      Loop through both WKAPP and 3KIDNAS\n",
    "for i in range(2):\n",
    "        #  Set the keywords for the RC curve, using the _1 and _2 convention\n",
    "        RKey='rad_'+str(i+1)\n",
    "        VKey='vrot_model_'+str(i+1)\n",
    "        VErrKey='e_vrot_model_'+str(i+1)\n",
    "        #   Set the label -- note this is based on the order of the join\n",
    "        if i==0:\n",
    "            Label='WKAPP'\n",
    "        elif i==1:\n",
    "            Label='3KIDNAS'\n",
    "        #    Get the radius, velocity and uncertainties.\n",
    "        R=StrToArr_3kidnas(TestTable[RKey][GalIndx])\n",
    "        V=StrToArr_3kidnas(TestTable[VKey][GalIndx])\n",
    "        VErr=StrToArr_3kidnas(TestTable[VErrKey][GalIndx])\n",
    "        #     Plot the RC for WKAPP and 3KIDNAS\n",
    "        ax.errorbar(R, V, yerr=VErr, ls='-', marker='.',label=Label)\n",
    "\n",
    "#    Format the plot\n",
    "PltTitle=TestTable['name'][GalIndx]\n",
    "plt.title(PltTitle)\n",
    "ax.set_xlabel(r\"$R$ ('') \")\n",
    "ax.set_ylabel(r\"$V$ (km/s)\")\n",
    "ax.legend()\n",
    "plt.show()\n",
    "\n"
   ]
  }
 ],
 "metadata": {
  "kernelspec": {
   "display_name": "Python 3 (ipykernel)",
   "language": "python",
   "name": "python3"
  },
  "language_info": {
   "codemirror_mode": {
    "name": "ipython",
    "version": 3
   },
   "file_extension": ".py",
   "mimetype": "text/x-python",
   "name": "python",
   "nbconvert_exporter": "python",
   "pygments_lexer": "ipython3",
   "version": "3.9.21"
  }
 },
 "nbformat": 4,
 "nbformat_minor": 5
}
